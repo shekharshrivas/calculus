{
  "nbformat": 4,
  "nbformat_minor": 0,
  "metadata": {
    "colab": {
      "provenance": [],
      "include_colab_link": true
    },
    "kernelspec": {
      "name": "python3",
      "display_name": "Python 3"
    },
    "language_info": {
      "name": "python"
    }
  },
  "cells": [
    {
      "cell_type": "markdown",
      "metadata": {
        "id": "view-in-github",
        "colab_type": "text"
      },
      "source": [
        "<a href=\"https://colab.research.google.com/github/shekharshrivas/calculus/blob/main/Euler's_method_to_solve_1st_order_D_E_ipyn.ipynb\" target=\"_parent\"><img src=\"https://colab.research.google.com/assets/colab-badge.svg\" alt=\"Open In Colab\"/></a>"
      ]
    },
    {
      "cell_type": "code",
      "source": [
        "import math\n",
        "import matplotlib.pyplot as plt"
      ],
      "metadata": {
        "id": "_vfKf52duMuH"
      },
      "execution_count": null,
      "outputs": []
    },
    {
      "cell_type": "code",
      "source": [
        "n = int(input('enter number of observation you want: '))   # number of observation you want to graph\n",
        "x0 = float(input('enter x at t=0: '))      # enter x at t=0\n",
        "interval = float(input('enter interval: ')) # there should be proper coordination between n and interval to get good range of graph"
      ],
      "metadata": {
        "colab": {
          "base_uri": "https://localhost:8080/"
        },
        "id": "YJNm6dEcFDM1",
        "outputId": "603f277a-49bb-42a2-c549-67bb8439d659"
      },
      "execution_count": null,
      "outputs": [
        {
          "name": "stdout",
          "output_type": "stream",
          "text": [
            "enter number of observation you want: 501\n",
            "enter x at t=0: 1\n",
            "enter interval: 0.01\n"
          ]
        }
      ]
    },
    {
      "cell_type": "code",
      "source": [
        "def Euler(n,interval,x):\n",
        "  # n = 501        # x_0 = 1      # interval = 0.01  # for good graph\n",
        "  xlist1 = []\n",
        "  for _ in range(n):\n",
        "    xlist1.append(x)\n",
        "    x = x*interval+x             # using the formula of Euler's method to find next term\n",
        "  return xlist1"
      ],
      "metadata": {
        "id": "88SSbvbw91eK"
      },
      "execution_count": null,
      "outputs": []
    },
    {
      "cell_type": "code",
      "source": [
        "def Exponent(n):\n",
        "  xlist2 = []\n",
        "  for t in range(n):\n",
        "    xlist2.append(math.exp(t*interval))\n",
        "  return xlist2\n",
        "\n",
        "# print(Exponent(n))"
      ],
      "metadata": {
        "id": "ArRCE2v6_0cB"
      },
      "execution_count": null,
      "outputs": []
    },
    {
      "cell_type": "code",
      "source": [
        "# import plotly.express as px\n",
        "# import plotly.graph_objects as go\n",
        "# fig = go.Figure()\n",
        "# tlist = [i*interval for i in range(n)]\n",
        "# fig.add_traces(go.Scatter(name = 'analytical', x = tlist, y = Exponent(n)))\n",
        "# fig.add_traces(go.Scatter(name = 'numerical by Euler', x = tlist, y = Euler(n,interval,x)))\n",
        "\n",
        "tlist = [i*interval for i in range(n)]\n",
        "plt.plot(tlist,Euler(n,interval,x0))\n",
        "plt.plot(tlist,Exponent(n))\n"
      ],
      "metadata": {
        "colab": {
          "base_uri": "https://localhost:8080/",
          "height": 282
        },
        "id": "nv5evTifIVAJ",
        "outputId": "bb99125f-7708-4400-9cec-080b24853d2c"
      },
      "execution_count": null,
      "outputs": [
        {
          "output_type": "execute_result",
          "data": {
            "text/plain": [
              "[<matplotlib.lines.Line2D at 0x7f1c15e81f10>]"
            ]
          },
          "metadata": {},
          "execution_count": 71
        },
        {
          "output_type": "display_data",
          "data": {
            "text/plain": [
              "<Figure size 432x288 with 1 Axes>"
            ],
            "image/png": "[encoded data removed]"
          },
          "metadata": {
            "needs_background": "light"
          }
        }
      ]
    },
    {
      "cell_type": "code",
      "source": [
        "# this is for error camparison between Euler and exponent graph\n",
        "n = 101      # number of delta_t you want to graph\n",
        "x = 1      # enter x at t=0\n",
        "def Euler_error(n,interval,x):\n",
        "  # n = 101     # interval = 0.01   # x = 1 \n",
        "  delta_t = [i*interval for i in range(n)]\n",
        "  xlist1 = []          # for numerical value\n",
        "  xlist2 = []          # for analytical value\n",
        "  for t in delta_t:\n",
        "    # x = xlist1[-1]\n",
        "    # x = Euler(n,interval,x)\n",
        "    x = x*t+x\n",
        "    xlist1.append(x)\n",
        "    xlist2.append(math.exp(t))\n",
        "  # print(xlist1)\n",
        "  error_list1 = []\n",
        "  for i in range(n):\n",
        "    error = (xlist1[i]-xlist2[i])/xlist1[i]\n",
        "    error_list1.append(error)\n",
        "  return error_list1\n",
        "# xlist1.pop(0)"
      ],
      "metadata": {
        "id": "2VbXIYaTXYRO"
      },
      "execution_count": null,
      "outputs": []
    },
    {
      "cell_type": "code",
      "source": [
        "# import plotly.express as px\n",
        "# import plotly.graph_objects as go\n",
        "# fig = go.Figure()\n",
        "# fig.add_traces(go.Scatter(name = 'error w.r.t. delta_t', x = delta_t, y = Euler_error(n,interval,x)))\n",
        "\n",
        "delta_t = [i*interval for i in range(101)]\n",
        "plt.plot(delta_t, Euler_error(101,interval,x0))"
      ],
      "metadata": {
        "colab": {
          "base_uri": "https://localhost:8080/",
          "height": 282
        },
        "id": "ttcdKmDlZEkI",
        "outputId": "1f488a2b-cff4-4f01-ff91-b4d34c94ce45"
      },
      "execution_count": null,
      "outputs": [
        {
          "output_type": "execute_result",
          "data": {
            "text/plain": [
              "[<matplotlib.lines.Line2D at 0x7f1c15d3a310>]"
            ]
          },
          "metadata": {},
          "execution_count": 74
        },
        {
          "output_type": "display_data",
          "data": {
            "text/plain": [
              "<Figure size 432x288 with 1 Axes>"
            ],
            "image/png": "[encoded data removed]"
          },
          "metadata": {
            "needs_background": "light"
          }
        }
      ]
    },
    {
      "cell_type": "code",
      "source": [
        "# now using euler's midpoint method\n",
        "x = 1\n",
        "def Euler_mid(n,interval,x):\n",
        "  # n = 501        # x_0 = 1      # interval = 0.01  # for good graph\n",
        "  xlist1 = []\n",
        "  for _ in range(n):\n",
        "    xlist1.append(x)\n",
        "    x = x+interval*(x+interval*x/2)             # using the formula of Euler's method to find next term\n",
        "  return xlist1\n",
        "\n",
        "# print(Euler_mid(n,interval,x))\n",
        "# n = 201\n",
        "# x_0 = 1      # enter x at t=0\n",
        "# x = 1\n",
        "# delta_t = [0.01 for i in range(n)]\n",
        "# xlist1 = []\n",
        "# for _ in range(n):\n",
        "#   x = xlist1[-1]\n",
        "  # xlist1.append(x)\n",
        "  # x = x+interval*(x+interval*x/2)\n",
        "  # xlist1.append(x)\n",
        "# xlist1.pop(0)\n",
        "# print(xlist1)\n",
        "# print(Exponent(n))"
      ],
      "metadata": {
        "id": "PwVMHcfSA0FI"
      },
      "execution_count": null,
      "outputs": []
    },
    {
      "cell_type": "code",
      "source": [
        "# import plotly.express as px\n",
        "# import plotly.graph_objects as go\n",
        "# fig = go.Figure()\n",
        "# fig.add_traces(go.Scatter(name = 'analytical', x = tlist, y = Exponent(n)))\n",
        "# fig.add_traces(go.Scatter(name = 'numerical by Mid Point', x = tlist, y = Euler_mid(n,interval,x)))\n",
        "\n",
        "tlist = [i*interval for i in range(n)]\n",
        "plt.plot(tlist,Euler_mid(n,interval,x0))\n",
        "plt.plot(tlist,Exponent(n))"
      ],
      "metadata": {
        "colab": {
          "base_uri": "https://localhost:8080/",
          "height": 282
        },
        "id": "ccnOmoHvCTge",
        "outputId": "30408aec-864b-416a-cdf5-40fe947b3c8d"
      },
      "execution_count": null,
      "outputs": [
        {
          "output_type": "execute_result",
          "data": {
            "text/plain": [
              "[<matplotlib.lines.Line2D at 0x7f1c17b81a90>]"
            ]
          },
          "metadata": {},
          "execution_count": 75
        },
        {
          "output_type": "display_data",
          "data": {
            "text/plain": [
              "<Figure size 432x288 with 1 Axes>"
            ],
            "image/png": "[encoded data removed]"
          },
          "metadata": {
            "needs_background": "light"
          }
        }
      ]
    },
    {
      "cell_type": "code",
      "source": [
        "# this is for error camparison between Euler's mid-point and exponent graph\n",
        "n = 101      # number of observation you want to graph\n",
        "def Euler_mid_error(n,interval,x):\n",
        "  # n = 101     # interval = 0.01   # x = 1 \n",
        "  delta_t = [i*interval for i in range(n)]\n",
        "  xlist1 = []          # for numerical value\n",
        "  xlist2 = []          # for analytical value\n",
        "  for t in delta_t:\n",
        "    # x = xlist1[-1]\n",
        "    # x = Euler(n,interval,x)\n",
        "    x = x+t*(x+t*x/2)\n",
        "    xlist1.append(x)\n",
        "    xlist2.append(math.exp(t))\n",
        "  # print(xlist1)\n",
        "  error_list1 = []\n",
        "  for i in range(n):\n",
        "    error = (xlist1[i]-xlist2[i])/xlist1[i]\n",
        "    error_list1.append(error)\n",
        "  return error_list1\n",
        "# delta_t = [i*interval for i in range(n)]\n",
        "# xlist1 = []\n",
        "# xlist2 = []\n",
        "# for t in delta_t:\n",
        "#   # x = xlist1[-1]\n",
        "#   xlist1.append(x)\n",
        "#   x = x+t*(x+t*x/2)\n",
        "#   xlist2.append(math.exp(t))\n",
        "# xlist1.pop(0)"
      ],
      "metadata": {
        "id": "liisdddlDOiQ"
      },
      "execution_count": null,
      "outputs": []
    },
    {
      "cell_type": "code",
      "source": [
        "tlist = [i*interval for i in range(101)]\n",
        "plt.plot(tlist,Euler_mid_error(101,interval,x0))"
      ],
      "metadata": {
        "colab": {
          "base_uri": "https://localhost:8080/",
          "height": 282
        },
        "id": "wsFHTTibdE3y",
        "outputId": "318e2a13-4de8-42cd-9bcb-32ee646ef8ba"
      },
      "execution_count": null,
      "outputs": [
        {
          "output_type": "execute_result",
          "data": {
            "text/plain": [
              "[<matplotlib.lines.Line2D at 0x7f1c15d1b4f0>]"
            ]
          },
          "metadata": {},
          "execution_count": 77
        },
        {
          "output_type": "display_data",
          "data": {
            "text/plain": [
              "<Figure size 432x288 with 1 Axes>"
            ],
            "image/png": "[encoded data removed]"
          },
          "metadata": {
            "needs_background": "light"
          }
        }
      ]
    },
    {
      "cell_type": "code",
      "source": [
        "# import plotly.express as px\n",
        "# import plotly.graph_objects as go\n",
        "# delta_t = [i/100 for i in range(101)]\n",
        "# # error_list3 = []\n",
        "# # for t in range(n):\n",
        "# #   error = (error_list1[t] - error_list2[t])/error_list1[t]\n",
        "# #   error_list3.append(error)\n",
        "# fig = go.Figure()\n",
        "# fig.add_traces(go.Scatter(name = 'Euler\"s error', x = delta_t, y = error_list2))\n",
        "# fig.add_traces(go.Scatter(name = 'Euler\"s mid-point error', x = delta_t, y = error_list1))\n",
        "\n",
        "tlist = [i*interval for i in range(101)]\n",
        "plt.plot(tlist,Euler_error(101,interval,x0))\n",
        "plt.plot(tlist,Euler_mid_error(101,interval,x0))"
      ],
      "metadata": {
        "colab": {
          "base_uri": "https://localhost:8080/",
          "height": 282
        },
        "id": "-6vyhzCTd0Kz",
        "outputId": "9e73ed19-2857-4ec9-ee90-8df07cc123e3"
      },
      "execution_count": null,
      "outputs": [
        {
          "output_type": "execute_result",
          "data": {
            "text/plain": [
              "[<matplotlib.lines.Line2D at 0x7f1c159f6d30>]"
            ]
          },
          "metadata": {},
          "execution_count": 78
        },
        {
          "output_type": "display_data",
          "data": {
            "text/plain": [
              "<Figure size 432x288 with 1 Axes>"
            ],
            "image/png": "[encoded data removed]"
          },
          "metadata": {
            "needs_background": "light"
          }
        }
      ]
    }
  ]
}